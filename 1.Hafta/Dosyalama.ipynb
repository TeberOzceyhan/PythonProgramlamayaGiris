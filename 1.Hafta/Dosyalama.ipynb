{
  "nbformat": 4,
  "nbformat_minor": 0,
  "metadata": {
    "colab": {
      "provenance": [],
      "toc_visible": true,
      "authorship_tag": "ABX9TyO8qQGfk74onNevgWalbBE9",
      "include_colab_link": true
    },
    "kernelspec": {
      "name": "python3",
      "display_name": "Python 3"
    },
    "language_info": {
      "name": "python"
    }
  },
  "cells": [
    {
      "cell_type": "markdown",
      "metadata": {
        "id": "view-in-github",
        "colab_type": "text"
      },
      "source": [
        "<a href=\"https://colab.research.google.com/github/TeberOzceyhan/PythonProgramlamayaGiris/blob/main/1.Hafta/Dosyalama.ipynb\" target=\"_parent\"><img src=\"https://colab.research.google.com/assets/colab-badge.svg\" alt=\"Open In Colab\"/></a>"
      ]
    },
    {
      "cell_type": "markdown",
      "source": [
        "# Dosyalama\n",
        "Bazı projelerde verilerin dosyalardan alınması gerekebilir. Bazı projelerde bulunan sonuçların bir dosyaya yazılması veya bir dosyaya eklenmesi istenebilir. Bu ve benzeri durumlarda tüm programlama dillerinde olduğu gibi python dilinde de dosyalama ile ilgili komutlar vardır.\n",
        "\n",
        "Bu maksatlar için Python'da dosya oluşturma, dosyadan okuma, dosyada veri güncelleme ve hatta dosyayı silme komutları vardır.\n",
        "\n",
        "## Komutlar\n",
        "Python'da dosyalamaya ilişkin ana komut open() komutudur. Bu komut iki parametre alır. Bu parametrelerden birincisi açılacak dosyanın adını ikincisi ise dosya açma modunu belirler.\n",
        "\n",
        "\"r\" Read dosyayı okuma maksadıyla açmayı ifade eder.\n",
        "\n",
        "\"a\" Append var olan dosyayı sonuna yazma maksadıya açmayı ifade eder.\n",
        "\n",
        "\"w\" Write dosyayı yoksa oluşturmak var ise silip oluşturmak maksadıyla açmayı ifade eder.\n",
        "\n",
        "\"x\" Create dosyayı oluşturmayı ifade eder. Dosya ver ise hata döndürür.\n",
        "\n",
        "Normalde bir dosyayı sadece imini belirterek açmak en çok kullanacağımız dosya açma yöntemi olacaktır. `f=open(\"veriler.dat\")` veriler.data isimli dosyayı okuma maksadıyla açar.\n",
        "\n",
        "Bu şekilde açtığımız bir dosyanın olmasına özen göstermeliyiz. aksi durumda bir hata mesajı alırız.\n",
        "## Örnek\n",
        "Aşağıdaki program ismi **mesaj.txt** olan bir dosyayı açar ve içindeki ifadeleri ekrana yazar."
      ],
      "metadata": {
        "id": "sXhe8_hcVZL4"
      }
    },
    {
      "cell_type": "code",
      "source": [
        "f = open(\"sample_data/mesaj.txt\")\n",
        "print(f.read())"
      ],
      "metadata": {
        "id": "oPBXTBSPYy_Q"
      },
      "execution_count": null,
      "outputs": []
    },
    {
      "cell_type": "markdown",
      "source": [
        "Programı bu şekilde çalıştırdığınızda bu dosyayı bulamayacak ise bir hata mesajı üretecektir. Burada Collabs ortamında bu doyayı kendi bilgisayarınızda oluşturup sol taraftaki menüde dosyalar kısmında sisteme yüklemelisiniz. Yüklediğimiz dosyanın işimiz bittiğinde sistemden silineceğini unutmayalım. Yani dosya sizin için önemli ise kendi bilgisayarınızda veya Google drive ortamında saklamalısınız.\n",
        "\n",
        "Eğer kendi bilgisayarınızda python programlarını çalıştırıyorsanız dosyanın bulunduğu konumu net bir şekilde yazmalısınız.\n",
        "\n",
        "Programda açtığınız dosyanın işi bittiğinde onu kapatmanız iyi olacaktır.\n",
        "\n",
        "Not: Dosyalarınızı her zaman kapatmalısınız. Bazı durumlarda, Verilerin tamponlanması özelliğinden dolayı yaptığınız değişiklikler dosyayı kapatmadığınız sürece dosyaya yanlsıtılmaz."
      ],
      "metadata": {
        "id": "Vy_kmOA_Y9Gx"
      }
    },
    {
      "cell_type": "code",
      "execution_count": null,
      "metadata": {
        "id": "BQmAqXO1VO9t"
      },
      "outputs": [],
      "source": [
        "f = open(\"sample_data/mesaj.txt\")\n",
        "print(f.read())\n",
        "f.close()"
      ]
    },
    {
      "cell_type": "markdown",
      "source": [
        "Dosya kapatma komutları ile ilgilenmek istemiyorsanız **with** komutunu kullanarak dosya aç içeriğini okuma kısımlarını daha tümleşik bir şekilde halledebilirsiniz.\n"
      ],
      "metadata": {
        "id": "iwwAnQGxcGTx"
      }
    },
    {
      "cell_type": "code",
      "source": [
        "with open(\"sample_data/mesaj.txt\") as f:\n",
        "  print(f.read())"
      ],
      "metadata": {
        "id": "i9ZIagz6clg4"
      },
      "execution_count": null,
      "outputs": []
    },
    {
      "cell_type": "markdown",
      "source": [
        "Normal durumlarda read() komutu tüm dosya içeriğini okur. Ancak istediğiniz sayıda karakter okumak isteyebilirsiniz."
      ],
      "metadata": {
        "id": "H1atHUTgc76C"
      }
    },
    {
      "cell_type": "code",
      "source": [
        "with open(\"sample_data/mesaj.txt\") as f:\n",
        "  print(f.read(15))"
      ],
      "metadata": {
        "id": "G5dYBAjCfUml"
      },
      "execution_count": null,
      "outputs": []
    },
    {
      "cell_type": "markdown",
      "source": [
        "readline() fonksiyonu dsyada tek bir satır okur. İsterseniz birden fazla satırı aşağıdaki gibi okuyabilirsiniz.\n"
      ],
      "metadata": {
        "id": "bRawMVddfzZD"
      }
    },
    {
      "cell_type": "code",
      "source": [
        "with open(\"sample_data/mesaj.txt\") as f:\n",
        "  print(f.readline())\n",
        "  print(f.readline())"
      ],
      "metadata": {
        "id": "DCipWitIgOq4"
      },
      "execution_count": null,
      "outputs": []
    },
    {
      "cell_type": "markdown",
      "source": [
        "Dosya üzerinde her bir satırı okuyup her satıra ayrı ayrı da erişebilirsiniz."
      ],
      "metadata": {
        "id": "LW9OKpc3gl-n"
      }
    },
    {
      "cell_type": "code",
      "source": [
        "with open(\"sample_data/mesaj.txt\") as f:\n",
        "  for x in f:\n",
        "    print(x)"
      ],
      "metadata": {
        "id": "KgxrNWXWgwmK"
      },
      "execution_count": null,
      "outputs": []
    },
    {
      "cell_type": "markdown",
      "source": [
        "# Dosya Oluşturma ve Dosyaya bilgi yazma\n",
        "Bir dosyaya veri yazabilmek için a veya w parametresi ile açmalısınız."
      ],
      "metadata": {
        "id": "ngsP6rNwh0kg"
      }
    },
    {
      "cell_type": "code",
      "source": [
        "with open(\"sample_data/mesaj.txt\", \"a\") as f:\n",
        "  f.write(\"Bu Kısımlar Python tarafından yazıldı\")\n",
        "\n",
        "#Tekrar dosyayı açıp değişikliği gölemleyelim\n",
        "with open(\"sample_data/mesaj.txt\") as f:\n",
        "  print(f.read())"
      ],
      "metadata": {
        "id": "JN5f9E-riJ-y"
      },
      "execution_count": null,
      "outputs": []
    },
    {
      "cell_type": "markdown",
      "source": [
        "Dosyayı sıfırdan ilk defa oluşturmak için w parametresi ile açmalıyız. Bu şekilde bir dosya açtığımızda dosya yoksa oluşturulur; varsa silinir yeni bir dosya olarak oluşturulur. Bu duruma dikkat etmeniz gerekir."
      ],
      "metadata": {
        "id": "AEVV9diAjXce"
      }
    },
    {
      "cell_type": "code",
      "source": [
        "with open(\"sample_data/mesaj44.txt\", \"w\") as f:\n",
        "  f.write(\"Woops! I have deleted the content!\")\n",
        "\n",
        "#Dosyayı açıp değişikliği gölemleyelim\n",
        "with open(\"sample_data/mesaj44.txt\") as f:\n",
        "  print(f.read())"
      ],
      "metadata": {
        "id": "EEscAlsXjqBT"
      },
      "execution_count": null,
      "outputs": []
    },
    {
      "cell_type": "code",
      "source": [
        "with open(\"sample_data/mesaj44.txt\", \"a\") as f:\n",
        "  f.write(\"Bunlar sona eklendiler\")\n",
        "\n",
        "#Dosyayı açıp değişikliği gölemleyelim\n",
        "with open(\"sample_data/mesaj44.txt\") as f:\n",
        "  print(f.read())"
      ],
      "metadata": {
        "id": "bQ_ku6LlkLW1"
      },
      "execution_count": null,
      "outputs": []
    },
    {
      "cell_type": "markdown",
      "source": [
        "## Örnek\n",
        "50 ile 100 arasında rastgele üretilen 100 tane değeri, adı **veriler.txt** olan dosyaya kaydeden Python programını geliştirelim."
      ],
      "metadata": {
        "id": "NTMf75-_kqn5"
      }
    },
    {
      "cell_type": "code",
      "source": [
        "import random\n",
        "random.seed()\n",
        "veri = open(\"sample_data/veriler.txt\",\"w\")\n",
        "for x in range(1,101):\n",
        "  veri.write(str(random.randrange(50,100))+\"\\n\")\n",
        "veri.write(str(random.randrange(50,100)))\n",
        "veri.close()"
      ],
      "metadata": {
        "id": "d5KP2lKWlpia"
      },
      "execution_count": null,
      "outputs": []
    },
    {
      "cell_type": "markdown",
      "source": [
        "## Örnek\n",
        "Az önce oluşturduğumuz dosyada bulunan değerlerin toplamını, Ortalamasını hesaplayıp ekrana yazan Python programını geliştiriniz."
      ],
      "metadata": {
        "id": "EpnTHmS6pnNG"
      }
    },
    {
      "cell_type": "code",
      "source": [
        "veriler =[]\n",
        "veri = open(\"sample_data/veriler.txt\",\"r\")\n",
        "veriler = veri.read().split(\"\\n\")\n",
        "veri.close()\n",
        "toplam = 0\n",
        "for x in veriler:\n",
        "  toplam += int(x)\n",
        "print(\"Toplam: \",toplam)\n",
        "print(\"Ortalama: \",toplam/len(veriler))\n"
      ],
      "metadata": {
        "id": "y1fulOv_p6qZ"
      },
      "execution_count": null,
      "outputs": []
    },
    {
      "cell_type": "markdown",
      "source": [
        "## Örnek\n",
        "1'den 1000'e kadar değerlerin içindekilerden asal olanları **asal.txt** isimli dosyaya kaydeden Python programını geliştiriniz."
      ],
      "metadata": {
        "id": "_XvqOA9IsygC"
      }
    },
    {
      "cell_type": "code",
      "source": [
        "def asalmi(sayi):\n",
        "  if sayi == 1:\n",
        "    return False\n",
        "  elif sayi == 2:\n",
        "    return True\n",
        "  else:\n",
        "    for x in range(2,sayi):\n",
        "      if sayi % x == 0:\n",
        "        return False\n",
        "    return True\n",
        "\n",
        "asal = open(\"sample_data/asal.txt\",\"w\")\n",
        "for k in range(1,1001):\n",
        "  if asalmi(k):\n",
        "    asal.write(str(k) + \"\\n\")\n",
        "asal.close()"
      ],
      "metadata": {
        "id": "avEevXDptHgq"
      },
      "execution_count": null,
      "outputs": []
    }
  ]
}