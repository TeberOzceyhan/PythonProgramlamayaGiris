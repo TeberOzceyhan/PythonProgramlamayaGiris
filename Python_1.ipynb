{
  "nbformat": 4,
  "nbformat_minor": 0,
  "metadata": {
    "colab": {
      "provenance": [],
      "toc_visible": true,
      "authorship_tag": "ABX9TyP1AcphoxmIU1wZAnmQfFQY",
      "include_colab_link": true
    },
    "kernelspec": {
      "name": "python3",
      "display_name": "Python 3"
    },
    "language_info": {
      "name": "python"
    }
  },
  "cells": [
    {
      "cell_type": "markdown",
      "metadata": {
        "id": "view-in-github",
        "colab_type": "text"
      },
      "source": [
        "<a href=\"https://colab.research.google.com/github/TeberOzceyhan/PythonProgramlamayaGiris/blob/main/Python_1.ipynb\" target=\"_parent\"><img src=\"https://colab.research.google.com/assets/colab-badge.svg\" alt=\"Open In Colab\"/></a>"
      ]
    },
    {
      "cell_type": "markdown",
      "source": [
        "# Giriş\n",
        "Bu Dersimizde öncelikli olarak Algoritmalar KAvramını Görmüştük. şimdi ise Python programlama dili ile orada gördüğümüz ve biraz teorik kalmış olan kavramların bilgisayar ortamında çalıştıracak şekilde kodlamak  "
      ],
      "metadata": {
        "id": "lC0qvebbFc_k"
      }
    },
    {
      "cell_type": "code",
      "source": [
        "a=5\n",
        "pi=3.14\n",
        "print (a*pi)"
      ],
      "metadata": {
        "colab": {
          "base_uri": "https://localhost:8080/"
        },
        "id": "KjVPhp9fFby7",
        "outputId": "04436807-2c58-40d9-c474-ca328b178a8b"
      },
      "execution_count": 1,
      "outputs": [
        {
          "output_type": "stream",
          "name": "stdout",
          "text": [
            "15.700000000000001\n"
          ]
        }
      ]
    },
    {
      "cell_type": "code",
      "execution_count": 2,
      "metadata": {
        "colab": {
          "base_uri": "https://localhost:8080/"
        },
        "id": "qsNUUwlUDmu6",
        "outputId": "86e53ad0-02b6-452b-e077-0ff06c60f76b"
      },
      "outputs": [
        {
          "output_type": "stream",
          "name": "stdout",
          "text": [
            "Adınız SoyadınızTeber\n",
            "Teber\n"
          ]
        }
      ],
      "source": [
        "name_surname=input(\"Adınız Soyadınız\")\n",
        "print(name_surname)"
      ]
    },
    {
      "cell_type": "code",
      "source": [
        "from google.colab import drive\n",
        "drive.mount('/content/drive')"
      ],
      "metadata": {
        "id": "03uSi8laQywu"
      },
      "execution_count": null,
      "outputs": []
    }
  ]
}